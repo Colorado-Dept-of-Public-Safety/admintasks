{
 "cells": [
  {
   "cell_type": "markdown",
   "id": "mexican-cooler",
   "metadata": {},
   "source": [
    "## Admin Script for DHSEM ArcGIS Online  \n",
    "<p> Date Created: May 19th 2021 </p> \n",
    "<p> Goal:Pull inventory monthly of all content within DHSEM Org. May add additional admin tasks as appropriate </p>"
   ]
  },
  {
   "cell_type": "markdown",
   "id": "impressive-extraction",
   "metadata": {},
   "source": [
    "### Table of Contents \n",
    "1.) [Admin Tasks Overview](#admintasks)  \n",
    "  <ul> 1.a) [Generate Report of All Accounts](#reportaccounts)\n",
    "   \n",
    "  1.b) [Generate Report of All items](#reportitems)</ul>\n",
    "   \n",
    "2.) [Inventory Of Individual ArcGIS Online Users](#invetory) "
   ]
  },
  {
   "cell_type": "code",
   "execution_count": 25,
   "id": "environmental-horror",
   "metadata": {},
   "outputs": [],
   "source": [
    "# import libraries \n",
    "import arcgis \n",
    "from arcgis.gis import GIS\n",
    "import pandas as pd \n",
    "import numpy as np \n",
    "import tempfile \n",
    "import os"
   ]
  },
  {
   "cell_type": "code",
   "execution_count": 26,
   "id": "sporting-awareness",
   "metadata": {},
   "outputs": [
    {
     "name": "stdout",
     "output_type": "stream",
     "text": [
      "Enter password: ········\n",
      "Successfully logged in as: rstevenson88@DHSEM\n"
     ]
    }
   ],
   "source": [
    "# Step 1: Login into ArcGIS Online. \n",
    "gis = GIS(\"https://dhsem.maps.arcgis.com/home/index.html\", username='rstevenson88@DHSEM')\n",
    "print(\"Successfully logged in as: \" + gis.properties.user.username)"
   ]
  },
  {
   "cell_type": "markdown",
   "id": "cultural-consensus",
   "metadata": {},
   "source": [
    "### Admin Tasks <a name=\"admintasks\"></a>\n",
    "<p>Tasks:\n",
    "    <ul> 1.) Get report of all accounts Within DHSEM Org </ul>\n",
    "    <ul> 2.) Get Inventory List of items within DHSEM Org </ul> \n",
    "    <ul> 3.) Download Items related to an incident - Coming Soon!</ul> </p> "
   ]
  },
  {
   "cell_type": "markdown",
   "id": "leading-trademark",
   "metadata": {},
   "source": [
    "#### Generate a Report of All Accounts <a name=\"reportaccounts\"></a>  "
   ]
  },
  {
   "cell_type": "code",
   "execution_count": 11,
   "id": "extensive-treasure",
   "metadata": {},
   "outputs": [
    {
     "name": "stderr",
     "output_type": "stream",
     "text": [
      "exception calling callback for <Future at 0x2618b80d310 state=finished raised AttributeError>\n",
      "Traceback (most recent call last):\n",
      "  File \"C:\\Users\\rstevenson\\.conda\\envs\\DHSEMGIS\\lib\\concurrent\\futures\\_base.py\", line 408, in add_done_callback\n",
      "    fn(self)\n",
      "  File \"C:\\Users\\rstevenson\\.conda\\envs\\DHSEMGIS\\lib\\site-packages\\arcgis\\_impl\\_async\\jobs.py\", line 87, in _notify\n",
      "    jobid = self._jobid\n",
      "AttributeError: 'ItemStatusJob' object has no attribute '_jobid'\n"
     ]
    },
    {
     "data": {
      "text/plain": [
       "<Generate Report job>"
      ]
     },
     "execution_count": 11,
     "metadata": {},
     "output_type": "execute_result"
    }
   ],
   "source": [
    "# Generate a report for all users . \n",
    "gis.admin.usage_reports.generate_report(focus='org', report_type='users', duration='weekly',notify=True)\n",
    "# this creates a report in your content on AGOL.  \n",
    "# Run this once a Month on the first work day of the Month. "
   ]
  },
  {
   "cell_type": "code",
   "execution_count": 13,
   "id": "loved-polymer",
   "metadata": {},
   "outputs": [
    {
     "data": {
      "text/html": [
       "<div class=\"item_container\" style=\"height: auto; overflow: hidden; border: 1px solid #cfcfcf; border-radius: 2px; background: #f6fafa; line-height: 1.21429em; padding: 10px;\">\n",
       "                    <div class=\"item_left\" style=\"width: 210px; float: left;\">\n",
       "                       <a href='https://DHSEM.maps.arcgis.com/home/item.html?id=a738f0f7813047c48749d22d3013af31' target='_blank'>\n",
       "                        <img src='data:image/png;base64,iVBORw0KGgoAAAANSUhEUgAAAMgAAACFCAYAAAAenrcsAAAEN0lEQVR4Xu3Yz2qVZxSFcW/PaunMkZOOnDh11jvpHbRVTApFSAuFUhvnHUWdKDQ4UcwfSWOTUw72o8lKstf2JCF5z3p+8E7qh54N65n0xgzAmW7ofwDwPwIBCgQCFAgEKBAIUCAQoEAgQIFAgAKBAAUCAQoEAhQIBCgQCFAgEKBAIECBQIACgQAFAgEKBAIUCAQoEAhQIBCgQCBAgUCAAoEABQIRNx9vDf2+XN2a/fxqX8/CgghETEN78NvukG+KZI1ILgSBiCmQUU2//4uVrdmjF0RyXgQiliWQWyufInlIJOdCIGJZAnm6+ZFILgCBiGUJZO6Po5E8J5JFEIhYpkDmjkbyA5F8NgIROrDRnPb714lkYQQiThvYSM76/eub/xyJ5G/9Y5yBQMRZAxtF9fvnkdz+L5LviaSFQEQ1sBG4338skg0icQhEuIFdd53ffzSS74ikRCCiM7DrrPv7n80jWSUSh0BEd2DX1fT7Px7M7Pv9r0//d2v+/bd/7ulfhRmBnLAsgSzyiOQkAhHTWEb11Y/bC73R774sBCJSh5J6t0MgInUoqXc7BCJSh5J6t0MgInUoqXc7BCJSh5J6t0MgInUoqXc7BCJSh5J6t0MgInUoqXc7BCK6Q9nZPxzqOd270xCI6A5l+m6U53S/S0MgojuUOz9tD/Wc7t1pCESkDiX1bodAROpQUu92CESkDiX1bodAROpQUu92CESkDiX1bodARHcob/cOh3pO9+40BCK6Q5m+G+U53e/SEIjoDuXuk52hntO9Ow2BiNShpN7tEIhIHUrq3Q6BiNShpN7tEIhIHUrq3Q6BiNShpN7tEIjoDuXN7uFQz+nenYZARHco03ejPKf7XRoCEd2hfL22M9RzunenIRCROpTUux0CEalDSb3bIRCROpTUux0CEalDSb3bIRCROpTUux0CEd2hvN4+GOo53bvTEIjoDmX6bpTndL9LQyCiO5R7v+wM9Zzu3WkIRKQOJfVuh0BE6lBS73YIRKQOJfVuh0BE6lBS73YIRKQOJfVuh0BEdygv3x9cyrsq3bvTEIjoDmX67qLfVbnqf/+6IhDRHcr9X3cv5V2V7t1pCESkDiX1bodAROpQUu92CESkDiX1bodAROpQUu92CESkDiX1bodAROpQUu92CESkDiX1bodAROpQUu92CESkDiX1bodAROpQUu92CESkDiX1bodAROpQUu92CESkDiX1bodAROpQUu92CESkDiX1bodAROpQUu92CESkDiX1bodAROpQUu92CESkDiX1bodAROpQUu92CERMQ9l4dxD1COR0BCKmoaQ+HEcg4punH6IfjiMQoEAgQIFAgAKBAAUCAQoEAhQIBCgQCFAgEKBAIECBQIACgQAFAgEKBAIUCAQoEAhQIBCgQCBAgUCAAoEABQIBCgQCFAgEKBAIUCAQoPAvBG4FKpHNrm4AAAAASUVORK5CYII=' width='200' height='133' class=\"itemThumbnail\">\n",
       "                       </a>\n",
       "                    </div>\n",
       "\n",
       "                    <div class=\"item_right\"     style=\"float: none; width: auto; overflow: hidden;\">\n",
       "                        <a href='https://DHSEM.maps.arcgis.com/home/item.html?id=a738f0f7813047c48749d22d3013af31' target='_blank'><b>OrganizationMembers_2021-05-21</b>\n",
       "                        </a>\n",
       "                        <br/><img src='https://DHSEM.maps.arcgis.com/home/js/jsapi/esri/css/images/item_type_icons/layers16.png' style=\"vertical-align:middle;\">Administrative Report by rstevenson88@DHSEM\n",
       "                        <br/>Last Modified: May 21, 2021\n",
       "                        <br/>0 comments, 0 views\n",
       "                    </div>\n",
       "                </div>\n",
       "                "
      ],
      "text/plain": [
       "<Item title:\"OrganizationMembers_2021-05-21\" type:Administrative Report owner:rstevenson88@DHSEM>"
      ]
     },
     "execution_count": 13,
     "metadata": {},
     "output_type": "execute_result"
    }
   ],
   "source": [
    "Users = gis.content.get('a738f0f7813047c48749d22d3013af31')\n",
    "Users"
   ]
  },
  {
   "cell_type": "code",
   "execution_count": 12,
   "id": "preceding-vertical",
   "metadata": {},
   "outputs": [],
   "source": [
    "# Not sure where to put this. \n",
    "# Last time I ran the .get_data() function, it saved the file\n",
    "# in a location  on my C drive in a Temp file. \n",
    "# this isnt what I want so lets change where temp files go. \n",
    "# dirname, basename = os.path.split('inventory_May')\n",
    "# temp = tempfile.NamedTemporaryFile(prefix=basename, dir=r'.\\Data for Python')\n",
    "# print(temp.name)"
   ]
  },
  {
   "cell_type": "code",
   "execution_count": 14,
   "id": "ruled-highway",
   "metadata": {},
   "outputs": [
    {
     "data": {
      "text/plain": [
       "'C:\\\\Users\\\\RSTEVE~1\\\\AppData\\\\Local\\\\Temp\\\\OrganizationMembers_2021-05-21.csv'"
      ]
     },
     "execution_count": 14,
     "metadata": {},
     "output_type": "execute_result"
    }
   ],
   "source": [
    "# download the report\n",
    "# This works, but why does it go to a path that isnt determined by the env? \n",
    "Users.get_data()"
   ]
  },
  {
   "cell_type": "code",
   "execution_count": 16,
   "id": "combined-witch",
   "metadata": {},
   "outputs": [
    {
     "data": {
      "text/plain": [
       "True"
      ]
     },
     "execution_count": 16,
     "metadata": {},
     "output_type": "execute_result"
    }
   ],
   "source": [
    "# after you download the file in the TEMP folder. (lame) \n",
    "# Delete the file from your content. \n",
    "# you just created content, so delete these files \n",
    "# so they arent apart of your monthly inventory. \n",
    "Users.delete()\n",
    "# if it returns true it works. "
   ]
  },
  {
   "cell_type": "markdown",
   "id": "promotional-drive",
   "metadata": {},
   "source": [
    "#### Generate Report of All items within DHSEM Org <a name=\"reportitems\"></a>"
   ]
  },
  {
   "cell_type": "code",
   "execution_count": 36,
   "id": "specific-equity",
   "metadata": {},
   "outputs": [
    {
     "name": "stderr",
     "output_type": "stream",
     "text": [
      "exception calling callback for <Future at 0x2618b9c4850 state=finished raised AttributeError>\n",
      "Traceback (most recent call last):\n",
      "  File \"C:\\Users\\rstevenson\\.conda\\envs\\DHSEMGIS\\lib\\concurrent\\futures\\_base.py\", line 408, in add_done_callback\n",
      "    fn(self)\n",
      "  File \"C:\\Users\\rstevenson\\.conda\\envs\\DHSEMGIS\\lib\\site-packages\\arcgis\\_impl\\_async\\jobs.py\", line 87, in _notify\n",
      "    jobid = self._jobid\n",
      "AttributeError: 'ItemStatusJob' object has no attribute '_jobid'\n"
     ]
    },
    {
     "data": {
      "text/plain": [
       "<Generate Report job>"
      ]
     },
     "execution_count": 36,
     "metadata": {},
     "output_type": "execute_result"
    }
   ],
   "source": [
    "# Follow similar steps for pulling all user accounts. \n",
    "# generate report for content within DHSEM Org \n",
    "gis.admin.usage_reports.generate_report(focus='org', report_type='content', duration='weekly',notify=True)"
   ]
  },
  {
   "cell_type": "code",
   "execution_count": 42,
   "id": "elegant-conclusion",
   "metadata": {},
   "outputs": [
    {
     "data": {
      "text/html": [
       "<div class=\"item_container\" style=\"height: auto; overflow: hidden; border: 1px solid #cfcfcf; border-radius: 2px; background: #f6fafa; line-height: 1.21429em; padding: 10px;\">\n",
       "                    <div class=\"item_left\" style=\"width: 210px; float: left;\">\n",
       "                       <a href='https://DHSEM.maps.arcgis.com/home/item.html?id=00bf28cb30434dcf9700606979a9e345' target='_blank'>\n",
       "                        <img src='data:image/png;base64,iVBORw0KGgoAAAANSUhEUgAAAMgAAACFCAYAAAAenrcsAAAEN0lEQVR4Xu3Yz2qVZxSFcW/PaunMkZOOnDh11jvpHbRVTApFSAuFUhvnHUWdKDQ4UcwfSWOTUw72o8lKstf2JCF5z3p+8E7qh54N65n0xgzAmW7ofwDwPwIBCgQCFAgEKBAIUCAQoEAgQIFAgAKBAAUCAQoEAhQIBCgQCFAgEKBAIECBQIACgQAFAgEKBAIUCAQoEAhQIBCgQCBAgUCAAoEABQIRNx9vDf2+XN2a/fxqX8/CgghETEN78NvukG+KZI1ILgSBiCmQUU2//4uVrdmjF0RyXgQiliWQWyufInlIJOdCIGJZAnm6+ZFILgCBiGUJZO6Po5E8J5JFEIhYpkDmjkbyA5F8NgIROrDRnPb714lkYQQiThvYSM76/eub/xyJ5G/9Y5yBQMRZAxtF9fvnkdz+L5LviaSFQEQ1sBG4338skg0icQhEuIFdd53ffzSS74ikRCCiM7DrrPv7n80jWSUSh0BEd2DX1fT7Px7M7Pv9r0//d2v+/bd/7ulfhRmBnLAsgSzyiOQkAhHTWEb11Y/bC73R774sBCJSh5J6t0MgInUoqXc7BCJSh5J6t0MgInUoqXc7BCJSh5J6t0MgInUoqXc7BCJSh5J6t0MgInUoqXc7BCK6Q9nZPxzqOd270xCI6A5l+m6U53S/S0MgojuUOz9tD/Wc7t1pCESkDiX1bodAROpQUu92CESkDiX1bodAROpQUu92CESkDiX1bodARHcob/cOh3pO9+40BCK6Q5m+G+U53e/SEIjoDuXuk52hntO9Ow2BiNShpN7tEIhIHUrq3Q6BiNShpN7tEIhIHUrq3Q6BiNShpN7tEIjoDuXN7uFQz+nenYZARHco03ejPKf7XRoCEd2hfL22M9RzunenIRCROpTUux0CEalDSb3bIRCROpTUux0CEalDSb3bIRCROpTUux0CEd2hvN4+GOo53bvTEIjoDmX6bpTndL9LQyCiO5R7v+wM9Zzu3WkIRKQOJfVuh0BE6lBS73YIRKQOJfVuh0BE6lBS73YIRKQOJfVuh0BEdygv3x9cyrsq3bvTEIjoDmX67qLfVbnqf/+6IhDRHcr9X3cv5V2V7t1pCESkDiX1bodAROpQUu92CESkDiX1bodAROpQUu92CESkDiX1bodAROpQUu92CESkDiX1bodAROpQUu92CESkDiX1bodAROpQUu92CESkDiX1bodAROpQUu92CESkDiX1bodAROpQUu92CESkDiX1bodAROpQUu92CESkDiX1bodAROpQUu92CESkDiX1bodAROpQUu92CERMQ9l4dxD1COR0BCKmoaQ+HEcg4punH6IfjiMQoEAgQIFAgAKBAAUCAQoEAhQIBCgQCFAgEKBAIECBQIACgQAFAgEKBAIUCAQoEAhQIBCgQCBAgUCAAoEABQIBCgQCFAgEKBAIUCAQoPAvBG4FKpHNrm4AAAAASUVORK5CYII=' width='200' height='133' class=\"itemThumbnail\">\n",
       "                       </a>\n",
       "                    </div>\n",
       "\n",
       "                    <div class=\"item_right\"     style=\"float: none; width: auto; overflow: hidden;\">\n",
       "                        <a href='https://DHSEM.maps.arcgis.com/home/item.html?id=00bf28cb30434dcf9700606979a9e345' target='_blank'><b>OrganizationItems_2021-05-21</b>\n",
       "                        </a>\n",
       "                        <br/><img src='https://DHSEM.maps.arcgis.com/home/js/jsapi/esri/css/images/item_type_icons/layers16.png' style=\"vertical-align:middle;\">Administrative Report by rstevenson88@DHSEM\n",
       "                        <br/>Last Modified: May 21, 2021\n",
       "                        <br/>0 comments, 0 views\n",
       "                    </div>\n",
       "                </div>\n",
       "                "
      ],
      "text/plain": [
       "<Item title:\"OrganizationItems_2021-05-21\" type:Administrative Report owner:rstevenson88@DHSEM>"
      ]
     },
     "execution_count": 42,
     "metadata": {},
     "output_type": "execute_result"
    }
   ],
   "source": [
    "# add content to your notebook \n",
    "Items = gis.content.get('00bf28cb30434dcf9700606979a9e345')\n",
    "Items"
   ]
  },
  {
   "cell_type": "code",
   "execution_count": 43,
   "id": "measured-bridal",
   "metadata": {},
   "outputs": [
    {
     "data": {
      "text/plain": [
       "'C:\\\\Users\\\\RSTEVE~1\\\\AppData\\\\Local\\\\Temp\\\\OrganizationItems_2021-05-21.csv'"
      ]
     },
     "execution_count": 43,
     "metadata": {},
     "output_type": "execute_result"
    }
   ],
   "source": [
    "# Download the report\n",
    "Items.get_data()"
   ]
  },
  {
   "cell_type": "code",
   "execution_count": 44,
   "id": "miniature-mechanism",
   "metadata": {},
   "outputs": [
    {
     "data": {
      "text/plain": [
       "True"
      ]
     },
     "execution_count": 44,
     "metadata": {},
     "output_type": "execute_result"
    }
   ],
   "source": [
    "#delete the report from contents\n",
    "Items.delete()"
   ]
  },
  {
   "cell_type": "markdown",
   "id": "placed-context",
   "metadata": {},
   "source": [
    "### <u> Inventory Of Individual ArcGIS Online Users </u> <a name=\"invetory\"></a>"
   ]
  },
  {
   "cell_type": "markdown",
   "id": "chubby-klein",
   "metadata": {},
   "source": [
    "<h4>  Inventory Script - ESRI GeoNet Community Solution </h4> \n",
    "<p> This script outputs  a series of csvs for all users and their items that were created. This is overkill and isnt needed because not all users have accounts where they can create items within AGOL.  </p>\n",
    "<p> This link has a script within in it, it doesnt work that great, but it is a starting point.Doesnt seem to pull my inventory, will need to make tweaks </p> \n",
    "<a href = 'https://community.esri.com/t5/arcgis-api-for-python-questions/get-a-list-of-all-arcgis-items-with-arcgis-python-module/td-p/812415/highlight/true'> This script iterates through users content. </a> "
   ]
  },
  {
   "cell_type": "code",
   "execution_count": 28,
   "id": "cardiovascular-forwarding",
   "metadata": {},
   "outputs": [
    {
     "name": "stdout",
     "output_type": "stream",
     "text": [
      "extract <User username:alexis_nagel@VTF>data to excel...\n",
      "extract <User username:alex_barba@VTF>data to excel...\n",
      "extract <User username:Amy.Black@DHSEM>data to excel...\n",
      "extract <User username:amy_herron@VTF>data to excel...\n",
      "extract <User username:andrew_pollart@VTF>data to excel...\n",
      "extract <User username:annie_giangardella@VTF>data to excel...\n",
      "extract <User username:annmarie_harris@CDPHE>data to excel...\n",
      "extract <User username:anthony_leibig@DHSEM>data to excel...\n",
      "extract <User username:april_burdorf@CDPHE>data to excel...\n",
      "extract <User username:BLucero_DHSEM>data to excel...\n",
      "extract <User username:brandy_emily@DHSEM>data to excel...\n",
      "extract <User username:Brett.Lawler@DHSEM>data to excel...\n",
      "extract <User username:bsalexander@DHSEM>data to excel...\n",
      "extract <User username:cbbennet@DHSEM>data to excel...\n",
      "extract <User username:CColeman@DHSEM>data to excel...\n",
      "extract <User username:cheryl_mcmahon@CDPHE>data to excel...\n",
      "extract <User username:christopherhudak@DHSEM>data to excel...\n",
      "extract <User username:christopher_czaja@CDPHE>data to excel...\n",
      "extract <User username:christopher_knowles@CDPHE>data to excel...\n",
      "extract <User username:colleen_gadd@VTF>data to excel...\n",
      "extract <User username:colsen@DHSEM>data to excel...\n",
      "extract <User username:cooper.white@DHSEM>data to excel...\n",
      "extract <User username:Cristian.Maes@DHSEM>data to excel...\n",
      "extract <User username:CSorensen@DHSEM>data to excel...\n",
      "extract <User username:CStark_DHSEM>data to excel...\n",
      "extract <User username:daniel.chapman@DHSEM>data to excel...\n",
      "extract <User username:David.Sonheim@DHSEM>data to excel...\n",
      "extract <User username:deborah_hindman@VTF>data to excel...\n",
      "extract <User username:devon.rhoads@DHSEM>data to excel...\n",
      "extract <User username:devon_williford@VTF>data to excel...\n",
      "extract <User username:Diana_herrero@VTF>data to excel...\n",
      "extract <User username:DOsborn@DHSEM>data to excel...\n",
      "extract <User username:DPetersen@DHSEM>data to excel...\n",
      "extract <User username:elaine_mcmanis@CDPHE>data to excel...\n",
      "extract <User username:EOwnsby_DHSEM>data to excel...\n",
      "extract <User username:EPalmer_DHSEM>data to excel...\n",
      "extract <User username:FM_DHSEM>data to excel...\n",
      "extract <User username:georgie_washington@VTF>data to excel...\n",
      "extract <User username:gina_febbraro@VTF>data to excel...\n",
      "extract <User username:greg_stasinos@VTF>data to excel...\n",
      "extract <User username:grey.lacerte@DHSEM>data to excel...\n",
      "extract <User username:herbert_guerrero@VTF>data to excel...\n",
      "extract <User username:jackie.roppel_DHSEM>data to excel...\n",
      "extract <User username:jacqueline.hanneman@DHSEM>data to excel...\n",
      "extract <User username:james_felder@VTF>data to excel...\n",
      "extract <User username:james_jellick@VTF>data to excel...\n",
      "extract <User username:Jamey.Sample@DHSEM>data to excel...\n",
      "extract <User username:jamie.richards@DHSEM>data to excel...\n",
      "extract <User username:jason.mccall@DHSEM>data to excel...\n",
      "extract <User username:jbaranyi@DHSEM>data to excel...\n",
      "extract <User username:jbfuller@DHSEM>data to excel...\n",
      "extract <User username:jeff.imsdahl@DHSEM>data to excel...\n",
      "extract <User username:jeff_beckman@DHSEM>data to excel...\n",
      "extract <User username:jennifer_yara-zelenski@VTF>data to excel...\n",
      "extract <User username:jerry.eastman@DHSEM>data to excel...\n",
      "extract <User username:jessica_marlman@VTF>data to excel...\n",
      "extract <User username:jessica_sanchez@VTF>data to excel...\n",
      "extract <User username:jory.maes@DHSEM>data to excel...\n",
      "extract <User username:joseph.okeefe@DHSEM>data to excel...\n",
      "extract <User username:jo_tansey@CDPHE>data to excel...\n",
      "extract <User username:karen_gieseker@VTF>data to excel...\n",
      "extract <User username:kathleen_wilmes@VTF>data to excel...\n",
      "extract <User username:keaton.pope_CIAC>data to excel...\n",
      "extract <User username:kiel_brunner@VTF>data to excel...\n",
      "extract <User username:kim_gulliver@VTF>data to excel...\n",
      "extract <User username:KKlein@DHSEM>data to excel...\n",
      "extract <User username:KKuretich@DHSEM>data to excel...\n",
      "extract <User username:kvarel@DHSEM>data to excel...\n",
      "extract <User username:kyle_lopez@VTF>data to excel...\n",
      "extract <User username:lauren.butner@DHSEM>data to excel...\n",
      "extract <User username:LuisDC_DHSEM>data to excel...\n",
      "extract <User username:mark_boley@VTF>data to excel...\n",
      "extract <User username:MArsenault_DHSEM>data to excel...\n",
      "extract <User username:matthew_miller@VTF>data to excel...\n",
      "extract <User username:MBoley_DHSEM>data to excel...\n",
      "extract <User username:mchael_pribil@VTF>data to excel...\n",
      "extract <User username:MDelgado@DHSEM>data to excel...\n",
      "extract <User username:melanie_roth-lawson@CDPHE>data to excel...\n",
      "extract <User username:melanie_simmons@VTF>data to excel...\n",
      "extract <User username:michael_strawbridge@VTF>data to excel...\n",
      "extract <User username:mike_willis@DHSEM>data to excel...\n",
      "extract <User username:mitchell.olson@DHSEM>data to excel...\n",
      "extract <User username:MMchargue_DHSEM>data to excel...\n",
      "extract <User username:MTrost@DHSEM>data to excel...\n",
      "extract <User username:myra_ramirez@VTF>data to excel...\n",
      "extract <User username:nicholas_anderson@VTF>data to excel...\n",
      "extract <User username:nicole_ortiz@VTF>data to excel...\n",
      "extract <User username:patricia_crossley@DHSEM>data to excel...\n",
      "extract <User username:patrick_belou@VTF>data to excel...\n",
      "extract <User username:patrick_uschuk@VTF>data to excel...\n",
      "extract <User username:paul_gillenwater@VTF>data to excel...\n",
      "extract <User username:pcoombs_DHSEM>data to excel...\n",
      "extract <User username:peter_davis@VTF>data to excel...\n",
      "extract <User username:peter_myers@CDPHE>data to excel...\n",
      "extract <User username:pgamberg@DHSEM>data to excel...\n",
      "extract <User username:PS@DHSEM>data to excel...\n",
      "extract <User username:rachel_herlihy@CDPHE>data to excel...\n",
      "extract <User username:rachel_stevenson@VTF>data to excel...\n",
      "extract <User username:randy_kuykendall@CDPHE>data to excel...\n",
      "extract <User username:rbmahs@DHSEM>data to excel...\n"
     ]
    }
   ],
   "source": [
    "users_all = gis.users.search() \n",
    "\n",
    "def get_item(user):\n",
    "    list_items = {}\n",
    "    content_item = user.items()\n",
    "    for item in content_item:\n",
    "             list_items[item.itemid] = item\n",
    "      \n",
    "    folders = user.folders\n",
    "    for folder in folders :\n",
    "            folder_items = user.items(folder=folder['title'])\n",
    "            for item in folder_items:\n",
    "                     list_items[item.itemid] = item\n",
    "    pd.DataFrame(list_items).transpose().to_excel(str(user.username)+'.xlsx')\n",
    "\n",
    "for i in range(len(users_all)):\n",
    "    print(\"extract \"+ str(users_all[i]) + \"data to excel...\")\n",
    "    get_item(users_all[i])"
   ]
  }
 ],
 "metadata": {
  "kernelspec": {
   "display_name": "Python 3",
   "language": "python",
   "name": "python3"
  },
  "language_info": {
   "codemirror_mode": {
    "name": "ipython",
    "version": 3
   },
   "file_extension": ".py",
   "mimetype": "text/x-python",
   "name": "python",
   "nbconvert_exporter": "python",
   "pygments_lexer": "ipython3",
   "version": "3.8.8"
  },
  "latex_envs": {
   "LaTeX_envs_menu_present": true,
   "autoclose": false,
   "autocomplete": true,
   "bibliofile": "biblio.bib",
   "cite_by": "apalike",
   "current_citInitial": 1,
   "eqLabelWithNumbers": true,
   "eqNumInitial": 1,
   "hotkeys": {
    "equation": "Ctrl-E",
    "itemize": "Ctrl-I"
   },
   "labels_anchors": false,
   "latex_user_defs": false,
   "report_style_numbering": false,
   "user_envs_cfg": false
  },
  "nbTranslate": {
   "displayLangs": [
    "*"
   ],
   "hotkey": "alt-t",
   "langInMainMenu": true,
   "sourceLang": "en",
   "targetLang": "fr",
   "useGoogleTranslate": true
  }
 },
 "nbformat": 4,
 "nbformat_minor": 5
}

{
 "cells": [
  {
   "cell_type": "markdown",
   "id": "national-alabama",
   "metadata": {
    "toc": true
   },
   "source": [
    "<h1>Table of Contents<span class=\"tocSkip\"></span></h1>\n",
    "<div class=\"toc\"><ul class=\"toc-item\"><li><span><a href=\"#Download-Feature-Layers\" data-toc-modified-id=\"Download-Feature-Layers-1\"><span class=\"toc-item-num\">1&nbsp;&nbsp;</span>Download Feature Layers</a></span></li><li><span><a href=\"#Intial-Stepup-for-Pulling-Feature-Layers\" data-toc-modified-id=\"Intial-Stepup-for-Pulling-Feature-Layers-2\"><span class=\"toc-item-num\">2&nbsp;&nbsp;</span>Intial Stepup for Pulling Feature Layers</a></span></li><li><span><a href=\"#Download-Files-to-your-Hard-Drive.\" data-toc-modified-id=\"Download-Files-to-your-Hard-Drive.-3\"><span class=\"toc-item-num\">3&nbsp;&nbsp;</span>Download Files to your Hard Drive.</a></span></li></ul></div>"
   ]
  },
  {
   "cell_type": "markdown",
   "id": "stuffed-digit",
   "metadata": {},
   "source": [
    "### Download Feature Layers"
   ]
  },
  {
   "cell_type": "code",
   "execution_count": 5,
   "id": "mexican-relations",
   "metadata": {},
   "outputs": [
    {
     "name": "stdout",
     "output_type": "stream",
     "text": [
      "input your usernamerstevenson88@DHSEM\n",
      "Enter password: ········\n"
     ]
    }
   ],
   "source": [
    "from arcgis.gis import GIS\n",
    "import datetime as dt \n",
    "username =input('input your username')\n",
    "gis = GIS('https://dhsem.maps.arcgis.com/home/index.html', 'rstevenson88@DHSEM')"
   ]
  },
  {
   "cell_type": "markdown",
   "id": "technical-potato",
   "metadata": {},
   "source": [
    "### Intial Stepup for Pulling Feature Layers"
   ]
  },
  {
   "cell_type": "code",
   "execution_count": 22,
   "id": "loose-beginning",
   "metadata": {},
   "outputs": [
    {
     "name": "stdout",
     "output_type": "stream",
     "text": [
      "Please enter the file location to store the backups: C:\\Users\\rstevenson\\Desktop\\Desktop Folders\\DHSEM\\Temp\n",
      "How many items do you want to back up? 10\n",
      "10 items will be backed up to C:\\Users\\rstevenson\\Desktop\\Desktop Folders\\DHSEM\\Temp. See the list below:\n"
     ]
    },
    {
     "data": {
      "text/plain": [
       "[<Item title:\"Wildfire Perimeters Clip\" type:Feature Layer Collection owner:rstevenson88@DHSEM>,\n",
       " <Item title:\"Summarize_Population_Density_(Census_Tracts)\" type:Feature Layer Collection owner:EPalmer_DHSEM>,\n",
       " <Item title:\"Cameron Fire Wildfires\" type:Feature Layer Collection owner:rstevenson88@DHSEM>,\n",
       " <Item title:\"Traffic Control Points Cameron Peak\" type:Feature Layer Collection owner:rstevenson88@DHSEM>,\n",
       " <Item title:\"Phase Lines\" type:Feature Layer Collection owner:rstevenson88@DHSEM>,\n",
       " <Item title:\"Basin Outlet \" type:Feature Layer Collection owner:rstevenson88@DHSEM>,\n",
       " <Item title:\"William Fork Fire Evacuation Area 3\" type:Feature Layer Collection owner:rstevenson88@DHSEM>,\n",
       " <Item title:\"Medical Facilities\" type:Feature Layer Collection owner:rstevenson88@DHSEM>,\n",
       " <Item title:\"Structures In Grand County\" type:Feature Layer Collection owner:rstevenson88@DHSEM>,\n",
       " <Item title:\"Grizzly Fire Road Closure\" type:Feature Layer Collection owner:rstevenson88@DHSEM>]"
      ]
     },
     "execution_count": 22,
     "metadata": {},
     "output_type": "execute_result"
    }
   ],
   "source": [
    "# denote the user for the files you wish to pull the feature layers. \n",
    "folder_path = input(\"Please enter the file location to store the backups: \")\n",
    "num_items = int(input(\"How many items do you want to back up? \"))\n",
    "query_string = \"type:Feature Layer, owner:rstevenson88@DHSEM\".format(username)\n",
    "items = gis.content.search(query='wildfire',item_type='Feature Layer', max_items=num_items, sort_field='modifed', sort_order='desc',)\n",
    "print(str(len(items)) + \" items will be backed up to \" + folder_path +\". See the list below:\")\n",
    "items"
   ]
  },
  {
   "cell_type": "markdown",
   "id": "olive-separation",
   "metadata": {},
   "source": [
    "### Download Files to your Hard Drive. "
   ]
  },
  {
   "cell_type": "code",
   "execution_count": 19,
   "id": "ongoing-myanmar",
   "metadata": {},
   "outputs": [
    {
     "name": "stdout",
     "output_type": "stream",
     "text": [
      "Downloading Wildfire Perimeters Clip\n",
      "Successfully downloaded Wildfire Perimeters Clip\n",
      "Downloading Summarize_Population_Density_(Census_Tracts)\n",
      "Successfully downloaded Summarize_Population_Density_(Census_Tracts)\n",
      "Downloading Cameron Fire Wildfires\n",
      "Successfully downloaded Cameron Fire Wildfires\n",
      "Downloading Traffic Control Points Cameron Peak\n",
      "Successfully downloaded Traffic Control Points Cameron Peak\n",
      "Downloading Phase Lines\n",
      "Successfully downloaded Phase Lines\n",
      "The function has completed\n"
     ]
    }
   ],
   "source": [
    "# Download feature services\n",
    "def download_as_fgdb(item_list, backup_location\n",
    "                    ):\n",
    "    for item in item_list:\n",
    "        try:\n",
    "            if 'View Service' in item.typeKeywords:\n",
    "                print(item.title + \" is view, not downloading\")\n",
    "            else: \n",
    "                print(\"Downloading \" + item.title)\n",
    "                version = dt.datetime.now().strftime(\"%d_%b_%Y\")\n",
    "                result = item.export(item.title + \"_\" + version, \"File Geodatabase\")\n",
    "                result.download(backup_location)\n",
    "                result.delete()\n",
    "                print(\"Successfully downloaded \" + item.title)\n",
    "        except:\n",
    "            print(\"An error occurred downloading \" + item.title)\n",
    "    print(\"The function has completed\")\n",
    "\n",
    "download_as_fgdb(items, folder_path)"
   ]
  },
  {
   "cell_type": "markdown",
   "id": "discrete-venezuela",
   "metadata": {},
   "source": [
    "<p> Note: There are some things we will need to change or adapt for future </p>\n",
    "<ul> 1.) Figure out how to denote owner? I may just want to pull the hosted feature layers from one user. </ul> \n",
    "<ul> 2.) Setup a better backup location for data pulls. </ul> "
   ]
  },
  {
   "cell_type": "code",
   "execution_count": null,
   "id": "strong-reaction",
   "metadata": {},
   "outputs": [],
   "source": []
  }
 ],
 "metadata": {
  "kernelspec": {
   "display_name": "Python 3",
   "language": "python",
   "name": "python3"
  },
  "language_info": {
   "codemirror_mode": {
    "name": "ipython",
    "version": 3
   },
   "file_extension": ".py",
   "mimetype": "text/x-python",
   "name": "python",
   "nbconvert_exporter": "python",
   "pygments_lexer": "ipython3",
   "version": "3.8.8"
  },
  "latex_envs": {
   "LaTeX_envs_menu_present": true,
   "autoclose": false,
   "autocomplete": true,
   "bibliofile": "biblio.bib",
   "cite_by": "apalike",
   "current_citInitial": 1,
   "eqLabelWithNumbers": true,
   "eqNumInitial": 1,
   "hotkeys": {
    "equation": "Ctrl-E",
    "itemize": "Ctrl-I"
   },
   "labels_anchors": false,
   "latex_user_defs": false,
   "report_style_numbering": false,
   "user_envs_cfg": false
  },
  "nbTranslate": {
   "displayLangs": [
    "*"
   ],
   "hotkey": "alt-t",
   "langInMainMenu": true,
   "sourceLang": "en",
   "targetLang": "fr",
   "useGoogleTranslate": true
  },
  "toc": {
   "base_numbering": 1,
   "nav_menu": {},
   "number_sections": true,
   "sideBar": true,
   "skip_h1_title": false,
   "title_cell": "Table of Contents",
   "title_sidebar": "Contents",
   "toc_cell": true,
   "toc_position": {},
   "toc_section_display": true,
   "toc_window_display": true
  }
 },
 "nbformat": 4,
 "nbformat_minor": 5
}
